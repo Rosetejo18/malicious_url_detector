{
 "cells": [
  {
   "cell_type": "code",
   "execution_count": 5,
   "id": "c6107baf",
   "metadata": {},
   "outputs": [],
   "source": [
    "import pandas as pd\n",
    "from sklearn.model_selection import train_test_split\n",
    "from sklearn.metrics import accuracy_score, classification_report\n",
    "import joblib"
   ]
  },
  {
   "cell_type": "code",
   "execution_count": 6,
   "id": "7f79ab81",
   "metadata": {},
   "outputs": [],
   "source": [
    "df = pd.read_csv(\"processed_dataset.csv\")\n",
    "\n",
    "feature_columns = [\"url_len\", \"num_unsafe_chars\", \"num_digits\", \"num_subdomains\",\n",
    "                   \"is_ip\", \"num_params\", \"num_slashes\", \"contains_suspicious_keywords\",\n",
    "                   \"contains_suspicious_file_extension\", \"short_url\", \"url_entropy\", \"has_https\", \"tfidf_score\"]\n",
    "\n",
    "X = df[feature_columns]\n",
    "y = df[\"type\"] \n",
    "\n",
    "X_train, X_test, y_train, y_test = train_test_split(X, y, test_size=0.2, random_state=10)"
   ]
  },
  {
   "cell_type": "markdown",
   "id": "a2cefa64",
   "metadata": {},
   "source": [
    "**Logistc Regression**"
   ]
  },
  {
   "cell_type": "code",
   "execution_count": 2,
   "id": "96c1bf1d",
   "metadata": {},
   "outputs": [],
   "source": [
    "from sklearn.linear_model import LogisticRegression\n",
    "from sklearn.preprocessing import StandardScaler\n",
    "from sklearn.pipeline import make_pipeline"
   ]
  },
  {
   "cell_type": "code",
   "execution_count": 7,
   "id": "9b4fdcd0",
   "metadata": {},
   "outputs": [
    {
     "name": "stdout",
     "output_type": "stream",
     "text": [
      "LogisticRegression Model Accuracy:  0.8155851933752563\n",
      "classification_report: \n",
      "               precision    recall  f1-score   support\n",
      "\n",
      "      benign       0.92      0.87      0.89     85829\n",
      "  defacement       0.80      0.89      0.84     19299\n",
      "     malware       0.61      0.78      0.68      6383\n",
      "    phishing       0.50      0.52      0.51     18728\n",
      "\n",
      "    accuracy                           0.82    130239\n",
      "   macro avg       0.70      0.77      0.73    130239\n",
      "weighted avg       0.83      0.82      0.82    130239\n",
      "\n"
     ]
    }
   ],
   "source": [
    "model = make_pipeline(StandardScaler(), \n",
    "                      LogisticRegression(solver='saga', max_iter=3000, class_weight='balanced' ,random_state=10))\n",
    "model.fit(X_train, y_train)\n",
    "y_pred = model.predict(X_test)\n",
    "\n",
    "print(\"LogisticRegression Model Accuracy: \", accuracy_score(y_test, y_pred))\n",
    "print(\"classification_report: \\n\", classification_report(y_test, y_pred))"
   ]
  },
  {
   "cell_type": "code",
   "execution_count": 11,
   "id": "e1607fc9",
   "metadata": {},
   "outputs": [
    {
     "name": "stdout",
     "output_type": "stream",
     "text": [
      "Training Accuracy:  0.8124299359633901\n",
      "classification_report: \n",
      "               precision    recall  f1-score   support\n",
      "\n",
      "      benign       0.92      0.86      0.89    342918\n",
      "  defacement       0.80      0.89      0.84     77158\n",
      "     malware       0.60      0.79      0.68     26137\n",
      "    phishing       0.49      0.52      0.50     74739\n",
      "\n",
      "    accuracy                           0.81    520952\n",
      "   macro avg       0.70      0.76      0.73    520952\n",
      "weighted avg       0.82      0.81      0.82    520952\n",
      "\n"
     ]
    }
   ],
   "source": [
    "#test for overfitting\n",
    "y_train_pred = model.predict(X_train)\n",
    "print(\"Training Accuracy: \", accuracy_score(y_train, y_train_pred))\n",
    "print(\"classification_report: \\n\", classification_report(y_train, y_train_pred))"
   ]
  },
  {
   "cell_type": "code",
   "execution_count": 12,
   "id": "737529b2",
   "metadata": {},
   "outputs": [
    {
     "name": "stdout",
     "output_type": "stream",
     "text": [
      "Model saved.\n"
     ]
    }
   ],
   "source": [
    "joblib.dump(model, \"models\\Logistic_model.pkl\")\n",
    "print(\"Model saved.\")"
   ]
  },
  {
   "cell_type": "markdown",
   "id": "51dc998c",
   "metadata": {},
   "source": [
    "Note: Performance of logistic regression is impacted due to the presence of outliers and class imbalance. We can shift to trees to overcome this."
   ]
  },
  {
   "cell_type": "markdown",
   "id": "703ced71",
   "metadata": {},
   "source": [
    "**Random Forest Classifier**"
   ]
  },
  {
   "cell_type": "code",
   "execution_count": 13,
   "id": "8badb295",
   "metadata": {},
   "outputs": [],
   "source": [
    "from sklearn.ensemble import RandomForestClassifier"
   ]
  },
  {
   "cell_type": "code",
   "execution_count": 14,
   "id": "dfb0d5b9",
   "metadata": {},
   "outputs": [
    {
     "name": "stdout",
     "output_type": "stream",
     "text": [
      "RandomForestClassifier Model Accuracy:  0.9590368476416434\n",
      "classification_report: \n",
      "               precision    recall  f1-score   support\n",
      "\n",
      "      benign       0.97      0.99      0.98     85829\n",
      "  defacement       0.96      0.98      0.97     19299\n",
      "     malware       0.98      0.94      0.96      6383\n",
      "    phishing       0.91      0.81      0.86     18728\n",
      "\n",
      "    accuracy                           0.96    130239\n",
      "   macro avg       0.96      0.93      0.94    130239\n",
      "weighted avg       0.96      0.96      0.96    130239\n",
      "\n"
     ]
    }
   ],
   "source": [
    "model_forest = RandomForestClassifier(n_estimators=100, class_weight='balanced', random_state=10)\n",
    "model_forest.fit(X_train, y_train)\n",
    "\n",
    "y_pred_forest = model_forest.predict(X_test)\n",
    "\n",
    "print(\"RandomForestClassifier Model Accuracy: \", accuracy_score(y_test, y_pred_forest))\n",
    "print(\"classification_report: \\n\", classification_report(y_test, y_pred_forest))"
   ]
  },
  {
   "cell_type": "code",
   "execution_count": null,
   "id": "f9ceddfe",
   "metadata": {},
   "outputs": [
    {
     "name": "stdout",
     "output_type": "stream",
     "text": [
      "Training Accuracy:  0.995546614659316\n",
      "classification_report: \n",
      "               precision    recall  f1-score   support\n",
      "\n",
      "      benign       1.00      1.00      1.00    342918\n",
      "  defacement       1.00      1.00      1.00     77158\n",
      "     malware       1.00      0.98      0.99     26137\n",
      "    phishing       0.98      0.99      0.98     74739\n",
      "\n",
      "    accuracy                           1.00    520952\n",
      "   macro avg       0.99      0.99      0.99    520952\n",
      "weighted avg       1.00      1.00      1.00    520952\n",
      "\n"
     ]
    }
   ],
   "source": [
    "#test for overfitting\n",
    "y_train_pred = model_forest.predict(X_train)\n",
    "print(\"Training Accuracy: \", accuracy_score(y_train, y_train_pred))\n",
    "print(\"classification_report: \\n\", classification_report(y_train, y_train_pred))"
   ]
  },
  {
   "cell_type": "markdown",
   "id": "515fa6f4",
   "metadata": {},
   "source": [
    "Note: Random Forest model seems to overfit"
   ]
  },
  {
   "cell_type": "code",
   "execution_count": 16,
   "id": "a6910202",
   "metadata": {},
   "outputs": [
    {
     "name": "stdout",
     "output_type": "stream",
     "text": [
      "Model saved.\n"
     ]
    }
   ],
   "source": [
    "joblib.dump(model_forest, \"models\\Random_forest_model.pkl\")\n",
    "print(\"Model saved.\")"
   ]
  },
  {
   "cell_type": "markdown",
   "id": "493f4af0",
   "metadata": {},
   "source": [
    "**LightGBM Classifier**"
   ]
  },
  {
   "cell_type": "code",
   "execution_count": 17,
   "id": "3b87e236",
   "metadata": {},
   "outputs": [],
   "source": [
    "from lightgbm import LGBMClassifier, early_stopping"
   ]
  },
  {
   "cell_type": "code",
   "execution_count": 18,
   "id": "4049e4f0",
   "metadata": {},
   "outputs": [
    {
     "name": "stdout",
     "output_type": "stream",
     "text": [
      "[LightGBM] [Info] Auto-choosing row-wise multi-threading, the overhead of testing was 0.019854 seconds.\n",
      "You can set `force_row_wise=true` to remove the overhead.\n",
      "And if memory is not enough, you can set `force_col_wise=true`.\n",
      "[LightGBM] [Info] Total Bins 1075\n",
      "[LightGBM] [Info] Number of data points in the train set: 520952, number of used features: 13\n",
      "[LightGBM] [Info] Start training from score -0.418167\n",
      "[LightGBM] [Info] Start training from score -1.909803\n",
      "[LightGBM] [Info] Start training from score -2.992306\n",
      "[LightGBM] [Info] Start training from score -1.941656\n",
      "Training until validation scores don't improve for 50 rounds\n",
      "[LightGBM] [Warning] No further splits with positive gain, best gain: -inf\n",
      "[LightGBM] [Warning] No further splits with positive gain, best gain: -inf\n",
      "[LightGBM] [Warning] No further splits with positive gain, best gain: -inf\n",
      "[LightGBM] [Warning] No further splits with positive gain, best gain: -inf\n",
      "Did not meet early stopping. Best iteration is:\n",
      "[1000]\tvalid_0's multi_logloss: 0.133441\n"
     ]
    }
   ],
   "source": [
    "model_lgbm = LGBMClassifier(\n",
    "    objective='multiclass',\n",
    "    num_class=4,\n",
    "    n_estimators=1000,\n",
    "    learning_rate=0.05,\n",
    "    max_depth=10,\n",
    "    subsample=0.8,\n",
    "    colsample_bytree=0.8,\n",
    "    min_child_samples=10,\n",
    "    reg_alpha=0.5,\n",
    "    reg_lambda=0.5,\n",
    "    is_unbalance=True,\n",
    "    random_state=10\n",
    ")\n",
    "\n",
    "model_lgbm.fit(X_train, y_train,\n",
    "          eval_set=[(X_test, y_test)],\n",
    "          callbacks=[early_stopping(stopping_rounds=50)],\n",
    "          eval_metric='multi_logloss'\n",
    "          )\n",
    "\n",
    "y_pred_lgbm = model_lgbm.predict(X_test,  num_iteration=model_lgbm.best_iteration_)\n"
   ]
  },
  {
   "cell_type": "code",
   "execution_count": 39,
   "id": "89dad906",
   "metadata": {},
   "outputs": [
    {
     "name": "stdout",
     "output_type": "stream",
     "text": [
      "LGBMClassifier Model Accuracy:  0.9566566082356284\n",
      "classification_report: \n",
      "               precision    recall  f1-score   support\n",
      "\n",
      "      benign       0.96      0.99      0.98     85829\n",
      "  defacement       0.96      0.98      0.97     19299\n",
      "     malware       0.98      0.92      0.95      6383\n",
      "    phishing       0.93      0.79      0.85     18728\n",
      "\n",
      "    accuracy                           0.96    130239\n",
      "   macro avg       0.96      0.92      0.94    130239\n",
      "weighted avg       0.96      0.96      0.96    130239\n",
      "\n"
     ]
    }
   ],
   "source": [
    "print(\"LGBMClassifier Model Accuracy: \", accuracy_score(y_test, y_pred_lgbm)) \n",
    "print(\"classification_report: \\n\", classification_report(y_test, y_pred_lgbm))"
   ]
  },
  {
   "cell_type": "code",
   "execution_count": 19,
   "id": "b6035531",
   "metadata": {},
   "outputs": [
    {
     "name": "stdout",
     "output_type": "stream",
     "text": [
      "Training Accuracy:  0.9622134092968259\n",
      "classification_report: \n",
      "               precision    recall  f1-score   support\n",
      "\n",
      "      benign       0.96      0.99      0.98    342918\n",
      "  defacement       0.96      0.99      0.98     77158\n",
      "     malware       0.99      0.93      0.96     26137\n",
      "    phishing       0.94      0.80      0.87     74739\n",
      "\n",
      "    accuracy                           0.96    520952\n",
      "   macro avg       0.97      0.93      0.95    520952\n",
      "weighted avg       0.96      0.96      0.96    520952\n",
      "\n"
     ]
    }
   ],
   "source": [
    "#test for overfitting\n",
    "y_train_pred_lgbm = model_lgbm.predict(X_train)\n",
    "print(\"Training Accuracy: \", accuracy_score(y_train, y_train_pred_lgbm))\n",
    "print(\"classification_report: \\n\", classification_report(y_train, y_train_pred_lgbm))"
   ]
  },
  {
   "cell_type": "code",
   "execution_count": 21,
   "id": "41aaffe7",
   "metadata": {},
   "outputs": [
    {
     "name": "stdout",
     "output_type": "stream",
     "text": [
      "Model saved.\n"
     ]
    }
   ],
   "source": [
    "joblib.dump(model_lgbm, \"models\\LightGBM_model.pkl\")\n",
    "print(\"Model saved.\")"
   ]
  },
  {
   "cell_type": "markdown",
   "id": "54a23b12",
   "metadata": {},
   "source": [
    "Note: Random Forest and LightGBM classifier both result in about 95 percent accuracy. However, LightGBM doesn't overfit, therefore it is preferred."
   ]
  },
  {
   "cell_type": "markdown",
   "id": "d82b2767",
   "metadata": {},
   "source": [
    "**Confusion Matrix for LightGBM**"
   ]
  },
  {
   "cell_type": "code",
   "execution_count": 22,
   "id": "2912e58b",
   "metadata": {},
   "outputs": [
    {
     "data": {
      "image/png": "[encoded data removed]",
      "text/plain": [
       "<Figure size 640x480 with 2 Axes>"
      ]
     },
     "metadata": {},
     "output_type": "display_data"
    }
   ],
   "source": [
    "import matplotlib.pyplot as plt\n",
    "import seaborn as sns\n",
    "from sklearn.metrics import confusion_matrix\n",
    "\n",
    "labels = [\"benign\", \"defacement\", \"phishing\", \"malware\"]\n",
    "cm = confusion_matrix(y_test, y_pred_lgbm, labels=labels)\n",
    "\n",
    "plt.figure()\n",
    "sns.heatmap(cm, annot=True, fmt=\"d\", cmap=\"Blues\", xticklabels=labels, yticklabels=labels)\n",
    "plt.xlabel(\"Predicted Label\")\n",
    "plt.ylabel(\"Actual Label\")\n",
    "plt.title(\"Confusion Matrix\")\n",
    "plt.show()"
   ]
  }
 ],
 "metadata": {
  "kernelspec": {
   "display_name": "venv310",
   "language": "python",
   "name": "python3"
  },
  "language_info": {
   "codemirror_mode": {
    "name": "ipython",
    "version": 3
   },
   "file_extension": ".py",
   "mimetype": "text/x-python",
   "name": "python",
   "nbconvert_exporter": "python",
   "pygments_lexer": "ipython3",
   "version": "3.10.11"
  }
 },
 "nbformat": 4,
 "nbformat_minor": 5
}
